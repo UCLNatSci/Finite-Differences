{
 "cells": [
  {
   "cell_type": "markdown",
   "id": "a82c64d0",
   "metadata": {},
   "source": [
    "```{exercise}\n",
    "Set up matrices $A$ and $B$ for the problem in Python for step $h=10^{-3}$ and solve to obtain the solution for $y$.\n",
    "```"
   ]
  },
  {
   "cell_type": "code",
   "execution_count": 1,
   "id": "be5b3223",
   "metadata": {
    "render": {
     "image": {
      "align": "center"
     }
    }
   },
   "outputs": [
    {
     "data": {
      "image/png": "[encoded data removed]",
      "text/plain": [
       "<Figure size 432x288 with 2 Axes>"
      ]
     },
     "metadata": {
      "filenames": {
       "image/png": "C:\\Users\\Ella Metcalfe\\OneDrive - University College London\\Finite-Differences\\book\\_build\\jupyter_execute\\finitediff\\w2-answers_1_0.png"
      },
      "needs_background": "light"
     },
     "output_type": "display_data"
    }
   ],
   "source": [
    "import numpy as np\n",
    "import matplotlib.pyplot as plt\n",
    "\n",
    "# Define the nodes\n",
    "n=100                  # solving with 100 nodes\n",
    "x=np.linspace(0,1,n)   # on the domain [0,1]\n",
    "h = x[1]-x[0]          # size of each interval\n",
    "\n",
    "# Construct tridiagonal matrix A and vector b\n",
    "# Initially we do not worry about implementation of the BCs\n",
    "\n",
    "coeff1 = 1-h/2\n",
    "coeff2 = -2-6*h**2\n",
    "coeff3 = 1+h/2\n",
    "\n",
    "A = np.diag(coeff1*np.ones((1,n-1))[0], -2) + \\\n",
    "    np.diag(coeff2*np.ones((1,n))[0], -1) + \\\n",
    "    np.diag(coeff3*np.ones((1,n+1))[0],0)\n",
    "\n",
    "# Alternative method of construction (creates a sparse matrix)\n",
    "#from scipy.sparse import spdiags\n",
    "#import numpy.matlib as ml\n",
    "#A = ml.repmat([coeff1,coeff2,coeff3],n+1,1)   #column-wise matrix diagonals\n",
    "#A= np.transpose(A)                            #row-wise matrix diagonals\n",
    "#diags = np.array([-2, -1, 0])\n",
    "#A = spdiags(A, diags, n+1, n+1).toarray()\n",
    "\n",
    "b = np.zeros((n+1,1))                          #The problem was homogeneous\n",
    "\n",
    "# Enforce the boundary conditions\n",
    "\n",
    "#y_{-1}-y_1=0:\n",
    "A[0,[0,1,2]] = [-1,0,1]\n",
    "b[0]=0\n",
    "\n",
    "#y_0=1\n",
    "A[1, [0,1,2]] = [0,1,0]\n",
    "b[1] = 1\n",
    "\n",
    "y,_,_,_= np.linalg.lstsq(A,b,rcond = None)\n",
    "y = y[1:]                                     #remove fictitious end point\n",
    "\n",
    "fig,ax = plt.subplots(1,2)\n",
    "ax[0].plot(x,y)\n",
    "ax[0].set_title('Solution')\n",
    "ysol = (2*np.exp(-3*x) + 3*np.exp(2*x))/5\n",
    "ax[1].plot(x,abs((y.T-ysol).T))\n",
    "ax[1].set_title('Error')\n",
    "plt.show()"
   ]
  },
  {
   "cell_type": "markdown",
   "id": "50dea933",
   "metadata": {},
   "source": [
    "```{exercise}\n",
    "* Write down  a discretised form of these equations, using a central difference scheme.\n",
    "*\tSolve the discretised system with 50 grid points simultaneously using a matrix method.\n",
    "*\tSolve the discretised system with 50 grid points using a Gauss-Seidel technique. Determine the number of iterations required for agreement with your part (2) solution to within $10^{-4}$.\n",
    "```\n",
    "\n",
    "\n",
    "## 1D diffusion\n",
    "Enceladus is a small, icy moon of Saturn, which has been observed to emit molecules of water from \"cracks\" in its surface. The following differential equation represents the competition between outward diffusion of water molecules from the surface and destruction due to ionization:\n",
    "```{math}\n",
    "\t2r\\frac{\\partial c}{\\partial r} + r^2\\frac{\\partial^2 c}{\\partial r^2}=r^2 c \\beta_{LOSS}.\n",
    "```\n",
    "\n",
    "In this equation, $r$ is the radial distance from the centre of the moon, $c$ is the steady state concentration of water molecules, and $\\beta_{LOSS}$ represents the relative importance of ionization compared to diffusion. We will take\n",
    "\\begin{equation*}\n",
    "\t\\beta_{LOSS}=0.01, \\qquad c(1)=1, \\qquad c(50)=0.1,\\qquad r\\in[1,50].\n",
    "\\end{equation*}\n",
    "\n",
    "```{exercise}\n",
    "* Write down  a discretised form of these equations, using a central difference scheme.\n",
    "*\tSolve the discretised system with 50 grid points simultaneously using a matrix method.\n",
    "*\tSolve the discretised system with 50 grid points using a Gauss-Seidel technique. Determine the number of iterations required for agreement with your part (2) solution to within $10^{-4}$.\n",
    "```\n",
    "\n",
    "**Solution**\n",
    "\n",
    "**Part 1: Discretisation**\n",
    "\\begin{equation*}\n",
    "2r_i\\frac{c_{i+1}-c_{i-1}}{2\\Delta r}+r_i^2\\frac{c_{i+1}-2c_i+c_{i-1}}{\\Delta r^2}=\\beta_{LOSS} r_i^2 c_i\n",
    "\\end{equation*}\n",
    "\n",
    "We can also eliminate a factor of $\\frac{r_i}{\\Delta r^2}$ to give:\n",
    "\n",
    "\\begin{equation*}\n",
    "(c_{i+1}-c_{i-1})\\Delta r +r_i(c_{i+1}-2c_i+c_{i-1})=\\beta_{LOSS}\\Delta r^2 r_i c_i\n",
    "\\end{equation*}\n",
    "\n",
    "**Part 2: Matrix method**\n",
    "\n",
    "Grouping together terms gives (for example):\n",
    "\n",
    "\\begin{equation*}\n",
    "(r_i-\\Delta r)c_{i-1}-(2r_i+\\beta_{LOSS}\\Delta r^2 r_i)c_i +(r_i+\\Delta r)c_{i+1}=0\n",
    "\\end{equation*}\n",
    "\n",
    "```{code}\n",
    "n=50; bloss=0.01;   % Values defined in the question\n",
    "\n",
    "r=linspace(1,50,n); % Set up the radial coordinate\n",
    "hr=r(2)-r(1);       % Determine the grid spacing\n",
    "\n",
    "M = zeros(n,n);     % Construct the grid\n",
    "\n",
    "\n",
    "% CONSTRUCTION OF COEFFICIENTS FOR INTERIOR NODES\n",
    "for k=2:n-1\n",
    "    M(k,k-1)=(r(k)-hr);            \n",
    "    M(k,k)=-(2*r(k)+bloss*hr^2*r(k));\n",
    "    M(k,k+1)=(r(k)+hr);\n",
    "end\n",
    "\n",
    "% alternative approach using diag:\n",
    "% rint = r(2:n-1);\n",
    "% diag(rint-hr,-1)+diag([1,-2+bloss*hr^2*rint,1]) + diag(rint+hr,1)\n",
    "\n",
    "% CONSTRUCTION OF COEFFICIENTS FOR BOUNDARY NODES\n",
    "M(1,1)=1; M(end,end)=1;\n",
    "\n",
    "% CONSTRUCTION OF RHS\n",
    "b=zeros(n,1);b(1)=1;b(n)=0.1; % interior + boundary\n",
    "\n",
    "sol1=(M\\b).';\n",
    "```\n",
    "\n",
    "**Part 3: Gauss-Seidel method**\n",
    "\n",
    "```{code}\n",
    "% Set up an initial grid for the solution\n",
    "c=zeros(1,n); c(1) = 1; c(end)=0.1;\n",
    "\n",
    "for j=1:1000 %bound on maximum number of iterations\n",
    "    for k=2:n-1\n",
    "        c(k) = ((r(k)+hr)*c(k+1) +(r(k)-hr)*c(k-1))/(2*r(k)+bloss*hr^2*r(k));\n",
    "    end\n",
    "    if norm(c-sol1)<1e-4\n",
    "         fprintf('Converged after %d iterations,',j)\n",
    "        break\n",
    "    end\n",
    "end\n",
    "```\n",
    "\n",
    "```{code}\n",
    "% Plots\n",
    "figure\n",
    "subplot(2,1,1)\n",
    "plot(r,sol1,'b')\n",
    "title('Solution by Matrix method')\n",
    "subplot(2,1,2)\n",
    "plot(r,c,'r')\n",
    "title('Solution by Gauss-Seidel method')\n",
    "```"
   ]
  }
 ],
 "metadata": {
  "jupytext": {
   "formats": "md:myst",
   "text_representation": {
    "extension": ".md",
    "format_name": "myst",
    "format_version": 0.13,
    "jupytext_version": "1.10.3"
   }
  },
  "kernelspec": {
   "display_name": "Python 3",
   "language": "python",
   "name": "python3"
  },
  "language_info": {
   "codemirror_mode": {
    "name": "ipython",
    "version": 3
   },
   "file_extension": ".py",
   "mimetype": "text/x-python",
   "name": "python",
   "nbconvert_exporter": "python",
   "pygments_lexer": "ipython3",
   "version": "3.7.11"
  },
  "source_map": [
   13,
   20,
   75
  ]
 },
 "nbformat": 4,
 "nbformat_minor": 5
}