{
 "cells": [
  {
   "cell_type": "markdown",
   "id": "7b522fe9",
   "metadata": {},
   "source": [
    "# Solutions to problems\n",
    "\n",
    "Let us first import the relevant packages that will be required for the below coding problems:"
   ]
  },
  {
   "cell_type": "code",
   "execution_count": 1,
   "id": "fe5c2c27",
   "metadata": {},
   "outputs": [],
   "source": [
    "from math import pi, cos, sin\n",
    "import numpy as np\n",
    "import matplotlib.pyplot as plt\n",
    "from scipy.optimize import fsolve"
   ]
  },
  {
   "cell_type": "markdown",
   "id": "e0e51a95",
   "metadata": {},
   "source": [
    "## Initial value problems - <span style=\"color: red;\">Coding challenge</span>"
   ]
  },
  {
   "cell_type": "code",
   "execution_count": 2,
   "id": "56cd0e29",
   "metadata": {
    "render": {
     "image": {
      "align": "center"
     }
    }
   },
   "outputs": [
    {
     "data": {
      "image/png": "[encoded data removed]",
      "text/plain": [
       "<Figure size 432x288 with 1 Axes>"
      ]
     },
     "metadata": {
      "filenames": {
       "image/png": "C:\\Users\\Ella Metcalfe\\OneDrive - University College London\\Finite-Differences\\book\\_build\\jupyter_execute\\finitediff\\w1_answers_3_0.png"
      },
      "needs_background": "light"
     },
     "output_type": "display_data"
    },
    {
     "name": "stdout",
     "output_type": "stream",
     "text": [
      "1.6482287601427004e-06\n"
     ]
    }
   ],
   "source": [
    "n=1000\n",
    "h = 2*pi/(n-1)\n",
    "x = [-pi]\n",
    "y = [-pi]\n",
    "\n",
    "for k in range(n-1):\n",
    "    x.append(x[k] + h)\n",
    "    y.append(y[k] + h*(cos(x[k]+h/2)+1))\n",
    "\n",
    "plt.plot(x,y)\n",
    "plt.xlabel('x')\n",
    "plt.xlim(-pi,pi)\n",
    "plt.title('Estimated integral of cos(x)+1')\n",
    "plt.show()\n",
    "\n",
    "# Maximum error\n",
    "y = np.array(y)\n",
    "x = np.array(x)\n",
    "print(max(abs(y-[sin(a)+a for a in x])))"
   ]
  },
  {
   "cell_type": "markdown",
   "id": "e7273d00",
   "metadata": {},
   "source": [
    "## Multi-stage methods - <span style=\"color: red;\">Coding challenge</span>\n",
    "\n",
    "You can find hidden the various functions described in the previous chapter that are being used to solve the challenge.\n",
    "\n",
    "``` {code-cell} ipython3\n",
    "---\n",
    "render:\n",
    "    image:\n",
    "        align: center\n",
    "tags: [hide-input]\n",
    "---\n",
    "\n",
    "# Heun's method\n",
    "def my_heun(f,t,x0):\n",
    "\n",
    "    nstep = len(t)\n",
    "    h = t[1] - t[0]\n",
    "    x = np.zeros((len(x0),nstep))\n",
    "    x[:,0] = x0\n",
    "\n",
    "    for k in range(nstep-1):\n",
    "        s1 = f(t[k], x[:,k])\n",
    "        s2 = f(t[k+1], x[:,k]+[h*a for a in s1])\n",
    "        x[:,k+1] = x[:,k]+[h/2*a for a in np.add(s1,s2)]\n",
    "\n",
    "    return x\n",
    "\n",
    "# Euler's implicit method\n",
    "def my_euli(f,t,X0):\n",
    "\n",
    "    n = len(t)\n",
    "    h = t[1]-t[0]\n",
    "    X = np.zeros((len(X0),n))\n",
    "    X[:,0] = X0\n",
    "\n",
    "    for k in range(n-1):\n",
    "        Z0 = X[:,k]\n",
    "        X[:,k+1] = fsolve(lambda Z1: Z1-Z0-[h*a for a in f(t[k], Z1)], Z0)\n",
    "\n",
    "    return X\n",
    "\n",
    "# Euler's explicit method\n",
    "def my_eulr(f,x,y0):\n",
    "\n",
    "    nstep = len(x)\n",
    "    h = x[1]-x[0]\n",
    "    y = np.zeros((len(y0),nstep))\n",
    "    y[:,0]=y0\n",
    "\n",
    "    for k in range(nstep-1):\n",
    "        y[:,k+1] = y[:,k]+[h*a for a in f(x[k], y[:,k])]\n",
    "    return y\n",
    "```"
   ]
  },
  {
   "cell_type": "code",
   "execution_count": 3,
   "id": "23052182",
   "metadata": {
    "render": {
     "image": {
      "align": "center"
     }
    }
   },
   "outputs": [
    {
     "ename": "NameError",
     "evalue": "name 'my_eulr' is not defined",
     "output_type": "error",
     "traceback": [
      "\u001b[1;31m---------------------------------------------------------------------------\u001b[0m",
      "\u001b[1;31mNameError\u001b[0m                                 Traceback (most recent call last)",
      "\u001b[1;32m<ipython-input-3-8d2cc4c93b95>\u001b[0m in \u001b[0;36m<module>\u001b[1;34m\u001b[0m\n\u001b[0;32m     11\u001b[0m     \u001b[0mu\u001b[0m \u001b[1;33m=\u001b[0m \u001b[1;36m2\u001b[0m\u001b[1;33m*\u001b[0m\u001b[0mnp\u001b[0m\u001b[1;33m.\u001b[0m\u001b[0mexp\u001b[0m\u001b[1;33m(\u001b[0m\u001b[1;33m-\u001b[0m\u001b[0mt\u001b[0m\u001b[1;33m)\u001b[0m\u001b[1;33m\u001b[0m\u001b[1;33m\u001b[0m\u001b[0m\n\u001b[0;32m     12\u001b[0m \u001b[1;33m\u001b[0m\u001b[0m\n\u001b[1;32m---> 13\u001b[1;33m     \u001b[0mXe\u001b[0m \u001b[1;33m=\u001b[0m \u001b[0mmy_eulr\u001b[0m\u001b[1;33m(\u001b[0m\u001b[0mf\u001b[0m\u001b[1;33m,\u001b[0m\u001b[0mt\u001b[0m\u001b[1;33m,\u001b[0m\u001b[0mX0\u001b[0m\u001b[1;33m)\u001b[0m\u001b[1;33m\u001b[0m\u001b[1;33m\u001b[0m\u001b[0m\n\u001b[0m\u001b[0;32m     14\u001b[0m     \u001b[0mXh\u001b[0m \u001b[1;33m=\u001b[0m \u001b[0mmy_heun\u001b[0m\u001b[1;33m(\u001b[0m\u001b[0mf\u001b[0m\u001b[1;33m,\u001b[0m\u001b[0mt\u001b[0m\u001b[1;33m,\u001b[0m\u001b[0mX0\u001b[0m\u001b[1;33m)\u001b[0m\u001b[1;33m\u001b[0m\u001b[1;33m\u001b[0m\u001b[0m\n\u001b[0;32m     15\u001b[0m \u001b[1;33m\u001b[0m\u001b[0m\n",
      "\u001b[1;31mNameError\u001b[0m: name 'my_eulr' is not defined"
     ]
    },
    {
     "data": {
      "image/png": "[encoded data removed]",
      "text/plain": [
       "<Figure size 432x288 with 4 Axes>"
      ]
     },
     "metadata": {
      "filenames": {
       "image/png": "C:\\Users\\Ella Metcalfe\\OneDrive - University College London\\Finite-Differences\\book\\_build\\jupyter_execute\\finitediff\\w1_answers_5_1.png"
      },
      "needs_background": "light"
     },
     "output_type": "display_data"
    }
   ],
   "source": [
    "f = lambda t,X: (998*X[0]+1998*X[1],-999*X[0]-1999*X[1])\n",
    "u0 = 2\n",
    "v0 = -1\n",
    "X0 = [u0,v0]\n",
    "\n",
    "i=0    \n",
    "fig, ax = plt.subplots(2,2)\n",
    "\n",
    "for _,h in enumerate([0.0025, 0.001]):\n",
    "    t = np.arange(0,1,h)\n",
    "    u = 2*np.exp(-t)\n",
    "\n",
    "    Xe = my_eulr(f,t,X0)\n",
    "    Xh = my_heun(f,t,X0)\n",
    "\n",
    "    ax[0,i].plot(t,Xe[0,:]-u, 'b')\n",
    "    ax[0,i].set_title('Euler, h=' + str(h))\n",
    "\n",
    "    ax[1,i].plot(t,Xh[0,:]-u, 'r')\n",
    "    ax[1,i].set_title('Heun, h=' + str(h))\n",
    "\n",
    "    i+=1\n",
    "\n",
    "fig.tight_layout()\n",
    "plt.show()\n",
    "\n",
    "# Using implicit Euler\n",
    "h = 0.1\n",
    "t = np.arange(0,1,h)\n",
    "n = len(t)\n",
    "u = 2*np.exp(-t)\n",
    "Xi = my_euli(f,t,X0)\n",
    "\n",
    "plt.plot(t,Xi[0,:]-u,'r')\n",
    "plt.title('Implicit, h=' + str(h))\n",
    "plt.show()"
   ]
  },
  {
   "cell_type": "markdown",
   "id": "268b4f56",
   "metadata": {},
   "source": [
    "## Higher order problems - <span style=\"color: red;\">Coding challenge</span>\n",
    "\n",
    "### Problem 1: A clamped ODE"
   ]
  },
  {
   "cell_type": "code",
   "execution_count": null,
   "id": "f2efb083",
   "metadata": {
    "render": {
     "image": {
      "align": "center"
     }
    }
   },
   "outputs": [],
   "source": [
    "n=100\n",
    "x=np.linspace(0,1,n)\n",
    "h = x[1]-x[0]\n",
    "\n",
    "coeff1 = 1-h/2\n",
    "coeff2 = -2-6*h**2\n",
    "coeff3 = 1+h/2\n",
    "\n",
    "A = np.diag(coeff1*np.ones((1,n-1))[0], -2) + \\\n",
    "    np.diag(coeff2*np.ones((1,n))[0], -1) + \\\n",
    "        np.diag(coeff3*np.ones((1,n+1))[0],0)\n",
    "\n",
    "b = np.zeros((n+1,1))\n",
    "\n",
    "A[0,[0,1,2]] = [-1,0,1]\n",
    "b[0]=0\n",
    "A[1, [0,1,2]] = [0,1,0]\n",
    "b[1] = 1\n",
    "\n",
    "y,_,_,_= np.linalg.lstsq(A,b,rcond = None)\n",
    "y = y[1:]\n",
    "\n",
    "fig,ax = plt.subplots(1,2)\n",
    "ax[0].plot(x,y)\n",
    "ax[0].set_title('Solution')\n",
    "ysol = (2*np.exp(-3*x) + 3*np.exp(2*x))/5\n",
    "ax[1].plot(x,abs((y.T-ysol).T))\n",
    "ax[1].set_title('Error')\n",
    "plt.show()"
   ]
  },
  {
   "cell_type": "markdown",
   "id": "aef43b04",
   "metadata": {},
   "source": [
    "### Problem 2 : 1D heat equation with Dirichlet boundary conditions"
   ]
  },
  {
   "cell_type": "code",
   "execution_count": null,
   "id": "e6838130",
   "metadata": {
    "render": {
     "image": {
      "align": "center"
     }
    }
   },
   "outputs": [],
   "source": [
    "n=100\n",
    "x = np.linspace(0,1,n).T\n",
    "h = x[1]-x[0]\n",
    "\n",
    "f = lambda x: sin(2*pi*x)\n",
    "\n",
    "A = np.diag([-2]*n,0)+np.diag([1]*(n-1),1)+np.diag([1]*(n-1),-1)\n",
    "\n",
    "A[0,[0,1]]=[1,0]\n",
    "A[n-1,[n-2,n-1]]=[0,1]\n",
    "F =[f(a) for a in x]\n",
    "F[0]=0\n",
    "F[len(F)-1] = 0\n",
    "\n",
    "U = [h**2*a for a in np.linalg.lstsq(A,F,rcond=None)[0]]\n",
    "sol = [-sin(2*pi*a)/(4*pi**2) for a in x]\n",
    "\n",
    "fig,ax = plt.subplots(1,2)\n",
    "ax[0].plot(x,U)\n",
    "\n",
    "U = np.array(U)\n",
    "sol = np.array(sol)\n",
    "ax[1].plot(x,abs(U-sol))\n",
    "plt.show()"
   ]
  },
  {
   "cell_type": "markdown",
   "id": "0b2694d0",
   "metadata": {},
   "source": [
    "### Problem 3: Simple harmonic motion"
   ]
  },
  {
   "cell_type": "code",
   "execution_count": null,
   "id": "48e33822",
   "metadata": {
    "render": {
     "image": {
      "align": "center"
     }
    }
   },
   "outputs": [],
   "source": [
    "# Set up grids\n",
    "ht = 0.1\n",
    "t = np.arange(0,100,ht)\n",
    "N = len(t)\n",
    "\n",
    "x = np.zeros((1,N))[0]\n",
    "x[0] = 1\n",
    "v = np.zeros((1,N+1))[0]\n",
    "v[0] = 0\n",
    "\n",
    "#Leap frog method\n",
    "for i in range(N-1):\n",
    "    v[i+1] = v[i]-x[i]*ht\n",
    "    x[i+1] = x[i]+v[i+1]*ht\n",
    "\n",
    "v[N] = v[N-1]-x[N-1]*ht\n",
    "v = (v[:-1]+v[1:])/2\n",
    "\n",
    "# Compute differenced from extact energy result\n",
    "plt.plot(t,abs(v**2+x**2-1)/2,'r')\n",
    "plt.show()"
   ]
  }
 ],
 "metadata": {
  "jupytext": {
   "formats": "md:myst",
   "text_representation": {
    "extension": ".md",
    "format_name": "myst",
    "format_version": 0.13,
    "jupytext_version": "1.10.3"
   }
  },
  "kernelspec": {
   "display_name": "Python 3",
   "language": "python",
   "name": "python3"
  },
  "language_info": {
   "codemirror_mode": {
    "name": "ipython",
    "version": 3
   },
   "file_extension": ".py",
   "mimetype": "text/x-python",
   "name": "python",
   "nbconvert_exporter": "python",
   "pygments_lexer": "ipython3",
   "version": "3.7.10"
  },
  "source_map": [
   13,
   19,
   24,
   29,
   55,
   113,
   155,
   161,
   196,
   200,
   231,
   235
  ]
 },
 "nbformat": 4,
 "nbformat_minor": 5
}