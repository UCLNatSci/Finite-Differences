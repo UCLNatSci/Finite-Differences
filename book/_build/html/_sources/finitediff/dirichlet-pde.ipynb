{
 "cells": [
  {
   "cell_type": "markdown",
   "id": "ce0da162",
   "metadata": {},
   "source": [
    "# Dirichlet - PDE\n",
    "\n",
    "\n",
    "**Alternatively, using a simultaneous equations technique**\n",
    "\n",
    "The function `cdiffM` below was written to solve the Poisson problem\n",
    "\n",
    "\\begin{equation*}\n",
    "\\nabla^2\\phi=f\n",
    "\\end{equation*}\n",
    "\n",
    "using a matrix method for any possible combination of boundary conditions.\n",
    "The function sets up the coefficient matrix for the problem $A\\Phi=F$, where $F,Phi$ are the function value and unknown solution at each grid node $(x,y)$, arranged as vectors.\n",
    "Array $A$  is the (sparse) coefficient matrix that relates each node to its neighbours using the five-point formula. The boundary equations are modified to use any specified boundary conditions.\n",
    "\n",
    "\n",
    "### Neumann\n",
    "\n",
    "Examples\n",
    "\n",
    "\\begin{equation*}\n",
    "y^{\\prime\\prime}+y=0, \\qquad y^{\\prime}(a)=\\alpha, \\quad y^{\\prime}(b)=\\beta\n",
    "\\end{equation*}\n",
    "\n",
    "\\begin{equation*}\n",
    "\\nabla^2 y + y = 0 \\qquad \\nabla y(x).\\hat{\\underline{n}}=f(\\underline{x}), \\ \\forall \\underline{x} \\in \\partial\\underline{\\Omega}\n",
    "\\end{equation*}\n",
    "\n",
    "Uses fictitious nodes at each end (give single example)\n",
    "\n",
    "### new section\n",
    "\n",
    "**Schr\\\"{o}dinger equation**\n",
    "\n",
    "\\begin{equation*}\n",
    "y^{\\prime\\prime}(x)+y(x)=\\lambda q(x)y(x), \\qquad q(x)=\\frac{1}{1+e^{(x-r)/\\epsilon}}\n",
    "\\end{equation*}\n",
    "\\begin{equation*}\n",
    "y(0)=0, \\qquad \\lim_{x\\rightarrow\\infty}y(x)=0\n",
    "\\end{equation*}"
   ]
  }
 ],
 "metadata": {
  "jupytext": {
   "formats": "md:myst",
   "text_representation": {
    "extension": ".md",
    "format_name": "myst",
    "format_version": 0.13,
    "jupytext_version": "1.10.3"
   }
  },
  "kernelspec": {
   "display_name": "Python 3",
   "language": "python",
   "name": "python3"
  },
  "language_info": {
   "codemirror_mode": {
    "name": "ipython",
    "version": 3
   },
   "file_extension": ".py",
   "mimetype": "text/x-python",
   "name": "python",
   "nbconvert_exporter": "python",
   "pygments_lexer": "ipython3",
   "version": "3.7.11"
  },
  "source_map": [
   13
  ]
 },
 "nbformat": 4,
 "nbformat_minor": 5
}