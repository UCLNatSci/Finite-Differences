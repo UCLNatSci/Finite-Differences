{
 "cells": [
  {
   "cell_type": "markdown",
   "id": "9c3f3eb9",
   "metadata": {},
   "source": [
    "# Further problems\n",
    "\n",
    "## Second order boundary value problems\n",
    "\n",
    "In a second order ODE/PDE, two conditions are required. There are three possible types of boundary conditions that may be given:\n",
    "\n",
    "* Dirichlet conditions: The solution is specified on each boundary\n",
    "* Neumann conditions: The derivative of the solution is specified on each boundary\n",
    "* Cauchy conditions: The solution and derivate are both specified on one boundary\n",
    "\n",
    "The type of conditions that can be given depend on the nature of the differential equation being solved. In some cases, boundary conditions of one type will lead to a problem that is not well-posed. Either the conditions do not give a unique solution, or they are too restrictive for any solution to be found. Partial differential equations can be classified as either hyperbolic, parabolic, or elliptic, with the classification determining the types of conditions that can be applied and the appropriate choice of finite difference scheme.\n",
    "\n",
    "In the case of Cauchy conditions, the problem can be solved by stepping forward in time using the solution on the boundary and the first interior point. The solution on the first interior point can be found by using the condition for the derivative.\n",
    "\n",
    "The cases where we are given conditions to imposed on two different boundaries are more tricky. In 1D problems, we have seen that the problem can be solved by setting up a matrix system of equations for each node. This approach can be generalised to higher dimensions, but it becomes challenging to implement. A toy example is provided below.\n",
    "\n",
    "### Illustration of approach using simultaneous equations\n",
    "\n",
    "Consider a rectangular plate, with temperature $\\phi(x,y)$ described by the steady heat equation $\\nabla^2\\phi = 0$. The plate is maintained at boundary temperatures $\\phi = 300, 400$ on pairs of opposite edges as shown. We will solve this problem using a central finite difference scheme on a (3 × 3) grid of interior points.\n",
    "\n",
    "```{image} images/3_3_grid.png\n",
    ":alt: 3x3 grid\n",
    ":height: 300px\n",
    ":align: center \n",
    "```\n",
    "\n",
    "The governing equation can be discretised using a five-point stencil:\n",
    "\n",
    "$$ \\phi_{i+1,j}+\\phi_{i-1,j}+\\phi_{i,j+1}+\\phi_{i,j-1}-4\\phi_{i,j}=0$$\n",
    "\n",
    "There is one equation for each node (equation variable), so we number the nodes sequentially $\\phi_{1,...9)$ as illustrated, resulting in the following system of equations :\n",
    "\n",
    "$$ \n",
    "\\begin{bmatrix}\n",
    "-4 & 1 & 0 & 1 & 0 & 0 & 0 & 0 & 0\\\\\n",
    "1 & -4 & 1 & 0 & 1 & 0 & 0 & 0 & 0\\\\\n",
    "0 & 1 & -4 & 0 & 0 & 1 & 0 & 0 & 0\\\\\n",
    "1 & 0 & 0 & -4 & 1 & 0 & 1 & 0 & 0\\\\\n",
    "0 & 1 & 0 & 1 & −4 & 1 & 0 & 1 & 0\\\\\n",
    "0 & 0 & 1 & 0 & 1 & −4 & 0 & 0 & 1\\\\\n",
    "0 & 0 & 0 & 1 & 0 & 0 & −4 & 1 & 0\\\\\n",
    "0 & 0 & 0 & 0 & 1 & 0 & 1 & −4 & 1\\\\\n",
    "0 & 0 & 0 & 0 & 0 & 1 & 0 & 1 & −4\n",
    "\\end{bmatrix}\n",
    "\\begin{bmatrix}\n",
    "\\phi_1\\\\\\phi_2\\\\\\phi_3\\\\\\phi_4\\\\\\phi_5\\\\\\phi_6\\\\\\phi_7\\\\\\phi_8\\\\\\phi_9\n",
    "\\end{bmatrix}\n",
    "=\n",
    "\\begin{bmatrix}\n",
    "-700\\\\-400\\\\-700\\\\-300\\\\0\\\\-300\\\\-700\\\\-400\\\\-700\n",
    "\\end{bmatrix}\n",
    "$$\n",
    "\n",
    "Notice that as a consequence of reshaping the array of node values into a column it has become slightly harder to keep track of the nodes that are neighbours. Additionally, inverting the sparse coefficient matrices can be computationally impractical for problems with many nodes. We therefore introduce an alternative, below.\n",
    "\n",
    "### Relaxation Method\n",
    "\n",
    "We begin by rearranging the governing finite difference formula into the form \n",
    "\n",
    "$$ u = F(u).$$\n",
    "\n",
    "For instance, for the five-point formula given in the previous example, we may write\n",
    "\n",
    "$$u_{i,j} = \\frac{1}{4} (u_{i,j−1} + u{i−1,j} + u_{i+1,j} + u_{i,j+1})$$\n",
    "\n",
    "The solution of this system can be found iteratively, by starting with a suitable initial guess for the whole field $u$ and applying the formulas until (hopefully!) a fixed solution is determined. This is known as *jacobi iteration*. To speed up convergence, the iterations can be applied sequentially to each grid-point; for example by sweeping from top-left to bottom right of the domain and updating each grid point in turn. This technique is known as the *Gauss-Seidel* relaxation method.\n",
    "\n",
    "A less obvious improvement in the technique, known as *sucessive relaxation*, starts with the observation that in each update step we obtain a relationship of the form\n",
    "\n",
    "$$u_{i,j}^(new) = u_{i,j}^(old) + r_{i,j},  u_{i,j}^(new) = F(u^(old))_{i,j}$$\n",
    "\n",
    "where $r_{i,j}$ is the residual error. The proposal allows that faster convergence might be obtained by adjusting the update step in proportion to the size of the residual, which is supposed to converge to zero:\n",
    "\n",
    "$$u_{i,j}^(new) = u_{i,j}^(old) + \\gamma r_{i,j}, r_{i,j} = F(u^(old))_{i,j} − u_{i,j}^(old) $$\n",
    "\n",
    "The relaxation parameter $\\gamma$ is selected for faster convergence, with\n",
    "\n",
    "* $\\gamma$ > 1 over-relaxation,\n",
    "* $\\gamma$ = 1 gives the ordinary GS method, \n",
    "* $\\gamma$ < 1 under-relaxation.\n",
    "\n",
    "It is very difficult to predict the optimum value of $\\gamma$, but values in the range (1, 2) typically work well.\n",
    "\n",
    "### Example implementation of the Jacobi, Gauss-Seidel and SOR techniques in python\n",
    "\n",
    "**Aim**: solving $u^{\\prime\\prime}(x) = sin(2\\pi x)$ for $u(0) = u(1) = 0$"
   ]
  },
  {
   "cell_type": "code",
   "execution_count": 1,
   "id": "c9f5a999",
   "metadata": {},
   "outputs": [],
   "source": [
    "# Importing the relevant packages for the example\n",
    "import numpy as np\n",
    "from math import sin,pi, sqrt\n",
    "import matplotlib.pyplot as plt\n",
    "from numpy.linalg import eig, norm"
   ]
  },
  {
   "cell_type": "code",
   "execution_count": 2,
   "id": "a0151324",
   "metadata": {},
   "outputs": [],
   "source": [
    "# Setting the grid space\n",
    "n = 50\n",
    "x = np.linspace(0,1,n+1)\n",
    "h = x[1] - x[0]"
   ]
  },
  {
   "cell_type": "markdown",
   "id": "f8eb3a2d",
   "metadata": {},
   "source": [
    "**Matrix method**"
   ]
  },
  {
   "cell_type": "code",
   "execution_count": 3,
   "id": "54e6f4fc",
   "metadata": {},
   "outputs": [
    {
     "data": {
      "image/png": "[encoded data removed]",
      "text/plain": [
       "<Figure size 432x288 with 1 Axes>"
      ]
     },
     "metadata": {
      "filenames": {
       "image/png": "C:\\Users\\Ella Metcalfe\\OneDrive - University College London\\Finite-Differences\\book\\_build\\jupyter_execute\\finitediff\\further_problems_4_0.png"
      },
      "needs_background": "light"
     },
     "output_type": "display_data"
    }
   ],
   "source": [
    "M = np.diag(np.insert(-2*np.ones((1,n-1))[0],(0,n-1),(1,1))) \\\n",
    "    + np.diag(np.append(np.ones((1,n-1))[0],0), -1) + \\\n",
    "        np.diag(np.insert(np.ones((1,n-1))[0],0,0),1)\n",
    "k = [h**2*sin(2*pi*a) for a in x]\n",
    "\n",
    "umatr = np.linalg.lstsq(M,k,rcond=None)\n",
    "\n",
    "# Plot of matrix solution\n",
    "plot_obj = plt.plot(x,umatr[0],'rx', x,[-sin(2*pi*a)/4/pi**2 for a in x],'b')\n",
    "plt.legend(plot_obj, ('estimate','analytic'))\n",
    "plt.xlim((0,1))\n",
    "plt.show()"
   ]
  },
  {
   "cell_type": "markdown",
   "id": "d10d265e",
   "metadata": {},
   "source": [
    "**Define the SOR parameter**\n",
    "The optimum parameter for Successive Over-Relaxation (SOR) can be predicted."
   ]
  },
  {
   "cell_type": "code",
   "execution_count": 4,
   "id": "5b42b6eb",
   "metadata": {},
   "outputs": [],
   "source": [
    "C = np.eye(n+1) - np.linalg.lstsq(np.diag(np.diag(M)), M, rcond=None)[0]\n",
    "m = max(abs(eig(C)[0]))\n",
    "sor = 1+m**2/(1+sqrt(1-m**2))**2"
   ]
  },
  {
   "cell_type": "markdown",
   "id": "dfdce11c",
   "metadata": {},
   "source": [
    "**Iterative methods**\n",
    "Let us first define the functions for the Jacobi, Gauss-Seidel and SOR algorithms. You can find them hidden below."
   ]
  },
  {
   "cell_type": "code",
   "execution_count": 5,
   "id": "87ddddab",
   "metadata": {
    "render": {
     "image": {
      "align": "center"
     }
    },
    "tags": [
     "hide-input"
    ]
   },
   "outputs": [],
   "source": [
    "def jac(u0,k):\n",
    "    # Jacobi Iteration\n",
    "    u1 = np.insert((u0[2:]+u0[:-2]-np.reshape(k[1:-1],np.shape(u0[:-2])))/2, (0,len(k[1:-1])), \\\n",
    "        (u0[0], u0[-1]))\n",
    "    \n",
    "    return u1\n",
    "\n",
    "def gsl(u0,k):\n",
    "    # Gauss-Seidel iteration\n",
    "\n",
    "    for i in range(1,len(u0)-1):\n",
    "        u0[i] = (u0[i-1]+u0[i+1]-k[i])/2\n",
    "\n",
    "    return u0\n",
    "\n",
    "def rlx(u0,k,g):\n",
    "    # Relaxation method using relaxation parameter g\n",
    "    \n",
    "    for i in range(1, len(u0)-1):\n",
    "        u1 = (u0[i-1]+u0[i+1]-k[i])/2\n",
    "        u0[i] = u0[i] + g*(u1-u0[i])\n",
    "\n",
    "    return u0\n",
    "\n",
    "def iterate(testfun, u0, maxit, accgoal):\n",
    "    # Iterate until converged to within specified accuracy\n",
    "\n",
    "    for counter in range(int(maxit)):\n",
    "        uref = np.copy(u0)\n",
    "        unext = testfun(u0)\n",
    "        err = norm(unext-uref)\n",
    "        if err<accgoal:\n",
    "            print('converged after', counter, 'iterations')\n",
    "            break\n",
    "        u0 = unext\n",
    "        \n",
    "    return unext"
   ]
  },
  {
   "cell_type": "code",
   "execution_count": 6,
   "id": "0880f802",
   "metadata": {},
   "outputs": [
    {
     "name": "stdout",
     "output_type": "stream",
     "text": [
      "converged after 582 iterations\n"
     ]
    }
   ],
   "source": [
    "# Initialize grid for iterative method\n",
    "u0 = np.zeros((n+1,))\n",
    "\n",
    "# Jacobi method\n",
    "ujac = iterate(lambda u: (jac(u,k)),u0,1e3,1e-5)"
   ]
  },
  {
   "cell_type": "code",
   "execution_count": 7,
   "id": "9cc096ac",
   "metadata": {},
   "outputs": [
    {
     "name": "stdout",
     "output_type": "stream",
     "text": [
      "converged after 366 iterations\n"
     ]
    }
   ],
   "source": [
    "# Gauss-Seidel\n",
    "ugsl = iterate(lambda u: gsl(u,k),u0,1e3,1e-5)"
   ]
  },
  {
   "cell_type": "markdown",
   "id": "396a62cc",
   "metadata": {},
   "source": [
    "``` {code-cell} ipython3\n",
    "# Relaxation\n",
    "u0 = np.zeros((n+1,))\n",
    "ulrx = iterate(lambda u: rlx(u,k,sor),u0,1e3,1e-5)\n",
    "```\n",
    "``` {code-cell} ipython3\n",
    "---\n",
    "render:\n",
    "    image:\n",
    "        align: center\n",
    "---\n",
    "# Plot of relaxation solution (for example)\n",
    "plot_obj = plt.plot(x,ulrx,'rx',x,[-sin(2*pi*a)/4/pi**2 for a in x],'b')\n",
    "plt.legend(plot_obj, ('estimate','analytic'))\n",
    "plt.xlim((0,1))\n",
    "plt.show()\n",
    "```"
   ]
  }
 ],
 "metadata": {
  "jupytext": {
   "formats": "md:myst",
   "text_representation": {
    "extension": ".md",
    "format_name": "myst",
    "format_version": 0.13,
    "jupytext_version": "1.10.3"
   }
  },
  "kernelspec": {
   "display_name": "Python 3",
   "language": "python",
   "name": "python3"
  },
  "language_info": {
   "codemirror_mode": {
    "name": "ipython",
    "version": 3
   },
   "file_extension": ".py",
   "mimetype": "text/x-python",
   "name": "python",
   "nbconvert_exporter": "python",
   "pygments_lexer": "ipython3",
   "version": "3.7.10"
  },
  "source_map": [
   13,
   102,
   109,
   114,
   117,
   131,
   136,
   140,
   145,
   190,
   197,
   201
  ]
 },
 "nbformat": 4,
 "nbformat_minor": 5
}