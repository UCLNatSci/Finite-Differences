{
 "cells": [
  {
   "cell_type": "markdown",
   "id": "215244cc",
   "metadata": {},
   "source": [
    "```{note}\n",
    "The relevant packages were imported here (numpy, math, matplotlib), therefore no longer need importing in the next sections. But make sure you do import them if you are running some of the sections independently.\n",
    "```\n",
    "\n",
    "```{admonition} Discretisation tip\n",
    ":class: tip\n",
    "In the above example we allowed python to compute the grid points, by using linspace to ensure that the right-hand end point was included. However, for some applications it may not be convenient to use linspace.\n",
    "\n",
    "If you want to compute the step size $h$ that will discretise a domain with the right-hand end point included, it is useful to recognise that the $x$ values in the grid are in arithmetic progression. If the first term is $a$, then the last term is $a+(n-1)h$, where $n$ is the number of points. This gives the following result for an interval $[a,b]$\n",
    "\n",
    "\\begin{equation}a+(n-1)h=b \\quad \\Rightarrow\\quad h=\\frac{b-a}{n-1}\\end{equation}\n",
    "```\n",
    "\n",
    "# Initial value problems\n",
    "\n",
    "Substitution of finite difference formulae into a differential equation results in a system of algebraic difference equations that either can be directly rearranged (this section) or solved using root-finding techniques (next section).\n",
    "\n",
    "```{admonition} Numeric integration\n",
    ":class: theorem\n",
    "The use of geometric integral approximation formulae such as the left-hand rectangle rule, mid-point rectangle rule or Simpson’s rule can also be used for numeric integration of initial value problems. The results found this way are identical to the Taylor series formulae and the geometric arguments can help to motivate the methods. However, Taylor’s theorem is required to quantify the size of the analytic error in each case.\n",
    "```\n",
    "\n",
    "## Forward stepping\n",
    "We can use the Euler forward difference formula to solve an initial value problem (IVP) of the form\n",
    "\n",
    "\\begin{equation}\\frac{\\mathrm{d}y}{\\mathrm{d}x}=f(x), \\quad y(x_0)=y_0.\\end{equation}\n",
    "\n",
    "Recalling that\n",
    "\n",
    "$$y(x_k+h)= y(x_k)+y^{\\prime}(x_k)h+\\mathcal{O}(h^2)$$\n",
    "\n",
    "and using the given differential equation to replace the derivative leads to the following iterative formula, which is known as the explicit Euler method\n",
    "\n",
    "\\begin{equation}y_{k+1}\\simeq y_k + h f(x_k)\\end{equation}\n",
    "\n",
    "The formula uses the known value $(x_k,y_k)$ together with the known slope at that point to project forward to the next point. The calculation is then repeated at the new point, and in this manner we keep stepping forward until we reach the end of the integration domain. We start at the given initial value $(x_0,y_0)$.\n",
    "\n",
    "A graphical illustration is provided below, demonstrating how each forward step takes us in tangent to one of the family of general solution curves. The approximation would be better for smaller step size!\n",
    "\n",
    "```{image} images/forward1.png\n",
    ":alt: forward stepping\n",
    ":scale: 40%\n",
    ":align: center\n",
    "```\n",
    "\n",
    "### Example\n",
    "\n",
    "The below Python script uses the forward difference formula to obtain a numeric estimate of the solution to the problem\n",
    "\n",
    "\\begin{equation}\\frac{\\mathrm{d}y}{\\mathrm{d}x}=\\cos(x)+1, \\quad y(-\\pi)=-\\pi\\end{equation}"
   ]
  },
  {
   "cell_type": "code",
   "execution_count": 1,
   "id": "e68cab66",
   "metadata": {
    "render": {
     "image": {
      "align": "center"
     }
    },
    "tags": [
     "hide-input"
    ]
   },
   "outputs": [
    {
     "data": {
      "image/png": "[encoded data removed]",
      "text/plain": [
       "<Figure size 432x288 with 1 Axes>"
      ]
     },
     "metadata": {
      "filenames": {
       "image/png": "C:\\Users\\Ella Metcalfe\\OneDrive - University College London\\Finite-Differences\\book\\_build\\jupyter_execute\\finitediff\\ivp_1_0.png"
      },
      "needs_background": "light"
     },
     "output_type": "display_data"
    },
    {
     "name": "stdout",
     "output_type": "stream",
     "text": [
      "Maximum error: 0.006289469598703877\n"
     ]
    }
   ],
   "source": [
    "import numpy as np\n",
    "import matplotlib.pyplot as plt\n",
    "\n",
    "n=1000\n",
    "h = 2*np.pi/(n-1)\n",
    "x=np.zeros(n)\n",
    "y=np.zeros(n)\n",
    "\n",
    "x[[0]] = -np.pi\n",
    "y[[0]] = -np.pi\n",
    "\n",
    "for k in range(n-1):\n",
    "    x[[k+1]] = x[k] + h\n",
    "    y[[k+1]] = (y[k] + h*(np.cos(x[k])+1))\n",
    "\n",
    "plt.plot(x,y)\n",
    "plt.xlabel('x')\n",
    "plt.xlim(-np.pi,np.pi)\n",
    "plt.title('Estimated integral of cos(x)+1')\n",
    "plt.show()\n",
    "\n",
    "# Maximum error\n",
    "y = np.array(y)\n",
    "x = np.array(x)\n",
    "\n",
    "exact=np.sin(x)+x\n",
    "print('Maximum error:', max(abs(y-exact)))"
   ]
  },
  {
   "cell_type": "markdown",
   "id": "d3c87dae",
   "metadata": {},
   "source": [
    "### Predicting the size of the error\n",
    "\n",
    "**Local error**\n",
    "\n",
    "The trunctation error in the explicit Euler method is $\\mathcal{O}(h^2)$. It is the size of error introduced at each step.\n",
    "\n",
    "**Global error**\n",
    "\n",
    "As we are integrating over $1/h$ steps, we may therefore expect that by the time we reach the end of the integration domain the error may be $\\mathcal{O}(h)$.\n",
    "\n",
    "This heuristic description is fairly accurate. However, the detailed picture is a little more complicated, as for some problems the local errors are amplified/compounded in subsequent steps, whilst in other problems the errors are damped out. We will see some examples in the next section.\n",
    "\n",
    "\n",
    "```{exercie}\n",
    "Edit the code given above using forward difference formula so that it uses the central difference formula\n",
    "\n",
    "\\begin{equation}y_{k+1}\\simeq y_k + h y^{\\prime}_{k+1/2}\\end{equation}\n",
    "\n",
    "You should find that the maximum error in your expansion is 1.6482e-06\n",
    "\n",
    "**Hint** The solution to this question requires very,very minimal changes to the given code.\n",
    "```\n",
    "\n",
    "## Non-autonomous IVPs\n",
    "So far we have only looked at initial value problems where the derivative is given fully in terms of $x$. Differential equations which do not explicitly depend on the independent variable are called autonomous.\n",
    "\n",
    "We now consider the more general non-autonomous initial value problem given by:\n",
    "\n",
    "\\begin{equation}\\frac{\\mathrm{d}y}{\\mathrm{d}x}=f(x,y), \\quad y(x_0)=y_0.\\end{equation}\n",
    "\n",
    "Schemes for solving this problem based on the forward and backward difference formulae are given below, with some discussion of their stability properties. Some further formulae will be outlined in the chapter on multi-stage methods.\n",
    "\n",
    "\n",
    "### Forward difference (explicit Euler scheme)\n",
    "\n",
    "Substituting the given result for the derivative into the forward difference formula result in\n",
    "\n",
    "\\begin{equation}y(x_k+h)\\simeq y(x_k)+h f(x_k,y_k)\\end{equation}\n",
    "\n",
    "This gives an explicit result for $y_{k+1}$ in terms of the values $x_k$ and $y_k$ from the previous step, which can be calculated straightforwardly in the same manner we used for the explicit problem. An example implementation is shown in the function code below"
   ]
  },
  {
   "cell_type": "code",
   "execution_count": 2,
   "id": "95e83265",
   "metadata": {},
   "outputs": [],
   "source": [
    "def my_eulr(f,x,y0):\n",
    "\n",
    "    nstep = len(x)\n",
    "    h = x[1]-x[0]\n",
    "    y = [y0]\n",
    "\n",
    "    for k in range(nstep-1):\n",
    "        y.append(y[k]+h*f(x[k],y[k]))\n",
    "    return y"
   ]
  },
  {
   "cell_type": "markdown",
   "id": "9c51bb34",
   "metadata": {},
   "source": [
    "Here is a demonstration of the solution using this code for the problem\n",
    "\n",
    "\\begin{equation}\\frac{\\mathrm{d}y}{\\mathrm{d}x}=-y+(\\cos(x)+2)y^2, \\quad y(0)=0.4, \\quad x\\in[0,4]\\end{equation}   $$"
   ]
  },
  {
   "cell_type": "code",
   "execution_count": 3,
   "id": "ca3e8f48",
   "metadata": {
    "render": {
     "image": {
      "align": "center"
     }
    }
   },
   "outputs": [
    {
     "ename": "NameError",
     "evalue": "name 'cos' is not defined",
     "output_type": "error",
     "traceback": [
      "\u001b[1;31m---------------------------------------------------------------------------\u001b[0m",
      "\u001b[1;31mNameError\u001b[0m                                 Traceback (most recent call last)",
      "\u001b[1;32m<ipython-input-3-cb532bb02216>\u001b[0m in \u001b[0;36m<module>\u001b[1;34m\u001b[0m\n\u001b[0;32m      1\u001b[0m \u001b[0mf\u001b[0m \u001b[1;33m=\u001b[0m \u001b[1;32mlambda\u001b[0m \u001b[0mx\u001b[0m\u001b[1;33m,\u001b[0m\u001b[0my\u001b[0m\u001b[1;33m:\u001b[0m \u001b[1;33m-\u001b[0m\u001b[0my\u001b[0m\u001b[1;33m+\u001b[0m\u001b[1;33m(\u001b[0m\u001b[0mcos\u001b[0m\u001b[1;33m(\u001b[0m\u001b[0mx\u001b[0m\u001b[1;33m)\u001b[0m\u001b[1;33m+\u001b[0m\u001b[1;36m2\u001b[0m\u001b[1;33m)\u001b[0m\u001b[1;33m*\u001b[0m\u001b[0my\u001b[0m\u001b[1;33m**\u001b[0m\u001b[1;36m2\u001b[0m\u001b[1;33m\u001b[0m\u001b[1;33m\u001b[0m\u001b[0m\n\u001b[0;32m      2\u001b[0m \u001b[0mx\u001b[0m \u001b[1;33m=\u001b[0m \u001b[0mnp\u001b[0m\u001b[1;33m.\u001b[0m\u001b[0mlinspace\u001b[0m\u001b[1;33m(\u001b[0m\u001b[1;36m0\u001b[0m\u001b[1;33m,\u001b[0m\u001b[1;36m4\u001b[0m\u001b[1;33m,\u001b[0m\u001b[1;36m100\u001b[0m\u001b[1;33m)\u001b[0m\u001b[1;33m\u001b[0m\u001b[1;33m\u001b[0m\u001b[0m\n\u001b[1;32m----> 3\u001b[1;33m \u001b[0my\u001b[0m \u001b[1;33m=\u001b[0m \u001b[0mmy_eulr\u001b[0m\u001b[1;33m(\u001b[0m\u001b[0mf\u001b[0m\u001b[1;33m,\u001b[0m\u001b[0mx\u001b[0m\u001b[1;33m,\u001b[0m\u001b[1;36m0.4\u001b[0m\u001b[1;33m)\u001b[0m\u001b[1;33m\u001b[0m\u001b[1;33m\u001b[0m\u001b[0m\n\u001b[0m\u001b[0;32m      4\u001b[0m \u001b[0mplt\u001b[0m\u001b[1;33m.\u001b[0m\u001b[0mplot\u001b[0m\u001b[1;33m(\u001b[0m\u001b[0mx\u001b[0m\u001b[1;33m,\u001b[0m\u001b[0my\u001b[0m\u001b[1;33m,\u001b[0m \u001b[1;34m'b'\u001b[0m\u001b[1;33m)\u001b[0m\u001b[1;33m\u001b[0m\u001b[1;33m\u001b[0m\u001b[0m\n\u001b[0;32m      5\u001b[0m \u001b[0mplt\u001b[0m\u001b[1;33m.\u001b[0m\u001b[0mshow\u001b[0m\u001b[1;33m(\u001b[0m\u001b[1;33m)\u001b[0m\u001b[1;33m\u001b[0m\u001b[1;33m\u001b[0m\u001b[0m\n",
      "\u001b[1;32m<ipython-input-2-323de2c48fc8>\u001b[0m in \u001b[0;36mmy_eulr\u001b[1;34m(f, x, y0)\u001b[0m\n\u001b[0;32m      6\u001b[0m \u001b[1;33m\u001b[0m\u001b[0m\n\u001b[0;32m      7\u001b[0m     \u001b[1;32mfor\u001b[0m \u001b[0mk\u001b[0m \u001b[1;32min\u001b[0m \u001b[0mrange\u001b[0m\u001b[1;33m(\u001b[0m\u001b[0mnstep\u001b[0m\u001b[1;33m-\u001b[0m\u001b[1;36m1\u001b[0m\u001b[1;33m)\u001b[0m\u001b[1;33m:\u001b[0m\u001b[1;33m\u001b[0m\u001b[1;33m\u001b[0m\u001b[0m\n\u001b[1;32m----> 8\u001b[1;33m         \u001b[0my\u001b[0m\u001b[1;33m.\u001b[0m\u001b[0mappend\u001b[0m\u001b[1;33m(\u001b[0m\u001b[0my\u001b[0m\u001b[1;33m[\u001b[0m\u001b[0mk\u001b[0m\u001b[1;33m]\u001b[0m\u001b[1;33m+\u001b[0m\u001b[0mh\u001b[0m\u001b[1;33m*\u001b[0m\u001b[0mf\u001b[0m\u001b[1;33m(\u001b[0m\u001b[0mx\u001b[0m\u001b[1;33m[\u001b[0m\u001b[0mk\u001b[0m\u001b[1;33m]\u001b[0m\u001b[1;33m,\u001b[0m\u001b[0my\u001b[0m\u001b[1;33m[\u001b[0m\u001b[0mk\u001b[0m\u001b[1;33m]\u001b[0m\u001b[1;33m)\u001b[0m\u001b[1;33m)\u001b[0m\u001b[1;33m\u001b[0m\u001b[1;33m\u001b[0m\u001b[0m\n\u001b[0m\u001b[0;32m      9\u001b[0m     \u001b[1;32mreturn\u001b[0m \u001b[0my\u001b[0m\u001b[1;33m\u001b[0m\u001b[1;33m\u001b[0m\u001b[0m\n",
      "\u001b[1;32m<ipython-input-3-cb532bb02216>\u001b[0m in \u001b[0;36m<lambda>\u001b[1;34m(x, y)\u001b[0m\n\u001b[1;32m----> 1\u001b[1;33m \u001b[0mf\u001b[0m \u001b[1;33m=\u001b[0m \u001b[1;32mlambda\u001b[0m \u001b[0mx\u001b[0m\u001b[1;33m,\u001b[0m\u001b[0my\u001b[0m\u001b[1;33m:\u001b[0m \u001b[1;33m-\u001b[0m\u001b[0my\u001b[0m\u001b[1;33m+\u001b[0m\u001b[1;33m(\u001b[0m\u001b[0mcos\u001b[0m\u001b[1;33m(\u001b[0m\u001b[0mx\u001b[0m\u001b[1;33m)\u001b[0m\u001b[1;33m+\u001b[0m\u001b[1;36m2\u001b[0m\u001b[1;33m)\u001b[0m\u001b[1;33m*\u001b[0m\u001b[0my\u001b[0m\u001b[1;33m**\u001b[0m\u001b[1;36m2\u001b[0m\u001b[1;33m\u001b[0m\u001b[1;33m\u001b[0m\u001b[0m\n\u001b[0m\u001b[0;32m      2\u001b[0m \u001b[0mx\u001b[0m \u001b[1;33m=\u001b[0m \u001b[0mnp\u001b[0m\u001b[1;33m.\u001b[0m\u001b[0mlinspace\u001b[0m\u001b[1;33m(\u001b[0m\u001b[1;36m0\u001b[0m\u001b[1;33m,\u001b[0m\u001b[1;36m4\u001b[0m\u001b[1;33m,\u001b[0m\u001b[1;36m100\u001b[0m\u001b[1;33m)\u001b[0m\u001b[1;33m\u001b[0m\u001b[1;33m\u001b[0m\u001b[0m\n\u001b[0;32m      3\u001b[0m \u001b[0my\u001b[0m \u001b[1;33m=\u001b[0m \u001b[0mmy_eulr\u001b[0m\u001b[1;33m(\u001b[0m\u001b[0mf\u001b[0m\u001b[1;33m,\u001b[0m\u001b[0mx\u001b[0m\u001b[1;33m,\u001b[0m\u001b[1;36m0.4\u001b[0m\u001b[1;33m)\u001b[0m\u001b[1;33m\u001b[0m\u001b[1;33m\u001b[0m\u001b[0m\n\u001b[0;32m      4\u001b[0m \u001b[0mplt\u001b[0m\u001b[1;33m.\u001b[0m\u001b[0mplot\u001b[0m\u001b[1;33m(\u001b[0m\u001b[0mx\u001b[0m\u001b[1;33m,\u001b[0m\u001b[0my\u001b[0m\u001b[1;33m,\u001b[0m \u001b[1;34m'b'\u001b[0m\u001b[1;33m)\u001b[0m\u001b[1;33m\u001b[0m\u001b[1;33m\u001b[0m\u001b[0m\n\u001b[0;32m      5\u001b[0m \u001b[0mplt\u001b[0m\u001b[1;33m.\u001b[0m\u001b[0mshow\u001b[0m\u001b[1;33m(\u001b[0m\u001b[1;33m)\u001b[0m\u001b[1;33m\u001b[0m\u001b[1;33m\u001b[0m\u001b[0m\n",
      "\u001b[1;31mNameError\u001b[0m: name 'cos' is not defined"
     ]
    }
   ],
   "source": [
    "f = lambda x,y: -y+(cos(x)+2)*y**2\n",
    "x = np.linspace(0,4,100)\n",
    "y = my_eulr(f,x,0.4)\n",
    "plt.plot(x,y, 'b')\n",
    "plt.show()"
   ]
  },
  {
   "cell_type": "markdown",
   "id": "b9a8cac4",
   "metadata": {},
   "source": [
    "If you would like to compare this solution to the analytic result, it is given by\n",
    "\n",
    "\\begin{equation}\\frac{2}{4+\\cos(x)-\\sin(x)}\\end{equation}\n",
    "\n",
    "<u>**Backward difference (implicit Euler scheme)**</u>\n",
    "\n",
    "\\begin{equation}y(x_k+h)\\simeq y(x_k)+h f(x_k,y(x_k+h))\\end{equation}\n",
    "\n",
    "Here, things begin to get a bit more complicated, since the expression for $y_{k+1}$ is given implicitly. Usually it is not possible to rearrange the expression to obtain $y_{k+1}$ explicitly, so a root-finding algorithm is required, such as the Newton-Raphson technique or a bisection or fixed point algorithm. An example implementation is shown in the code below"
   ]
  },
  {
   "cell_type": "code",
   "execution_count": null,
   "id": "72244430",
   "metadata": {},
   "outputs": [],
   "source": [
    "def my_eulri(f,x,y0):\n",
    "    nstep = len(x)\n",
    "    h = x[1]-x[0]\n",
    "    y = [y0]\n",
    "\n",
    "    for k in range(nstep-1):\n",
    "        x2 = x[k+1]\n",
    "        y1 = y[k]\n",
    "\n",
    "        F = lambda y2: (y2-y1-h*f(x2, y2))\n",
    "        y.append(fsolve(F,y1))\n",
    "\n",
    "    return y"
   ]
  },
  {
   "cell_type": "markdown",
   "id": "74a64613",
   "metadata": {},
   "source": [
    "**<u>Trapezoidal rule</u>**\n",
    "\n",
    "Taking the average of the forward and backward difference formulae gives\n",
    "\n",
    "\\begin{equation}y_{k+1}=y_k+\\frac{h}{2}\\biggr[f(x_k,y_k)+f(x_{k+1},y_{k+1})\\biggr]\\end{equation}\n",
    "\n",
    "This result is equivalent to approximating the integral using the trapezium rule. It can be shown that the global error in this formula is $\\mathcal{O}(h^2)$, whilst the global errors in the explicit and implicit Euler methods are both $\\mathcal{O}(h)$.\n",
    "\n",
    "The trapezoidal rule is also an implicit rule. It can be implemented using a minimal modification of the backward difference algorithm outlined above.\n",
    "\n",
    "### Stability\n",
    "The implicit Euler algorithm typically requires a root-solving algorithm (expensive) and it only offers the same order accuracy as the explicit Euler algorithm, since the error goes like $h$ in each case… So why do we need it?\n",
    "\n",
    "We will consider an illustrative example, provided by the problem\n",
    "\n",
    "\\begin{equation}\\frac{\\mathrm{d}y}{\\mathrm{d}x}=-5y, \\quad y(0)=2, \\quad y\\in[0,10]\\end{equation}\n",
    "\n",
    "First, let us demonstrate the solutions obtained for step size $h=0.41$, using each algorithm:"
   ]
  },
  {
   "cell_type": "code",
   "execution_count": null,
   "id": "6d53906a",
   "metadata": {
    "render": {
     "image": {
      "align": "center"
     }
    },
    "tags": [
     "hide-input"
    ]
   },
   "outputs": [],
   "source": [
    "import warnings\n",
    "warnings.filterwarnings('ignore')\n",
    "from scipy.optimize import fsolve\n",
    "\n",
    "h = 0.41\n",
    "x=np.arange(0,10,h)\n",
    "f = lambda x,y: -5*y\n",
    "ye = my_eulr(f,x,2)\n",
    "yi = my_eulri(f,x,2)\n",
    "\n",
    "xsol = np.linspace(0,10,1001)\n",
    "ysol = 2*np.exp(-5*xsol)\n",
    "\n",
    "fig,ax = plt.subplots(2,1)\n",
    "ax[0].plot(x,ye,'b',xsol,ysol,'r')\n",
    "ax[0].set_title('Explicit Method')\n",
    "ax[0].set_xlim(0,10)\n",
    "ax[1].plot(x, yi, 'b', xsol, ysol, 'r')\n",
    "ax[1].set_title('Implicit Method')\n",
    "ax[1].set_xlim(0,10)\n",
    "fig.tight_layout()\n",
    "plt.show()"
   ]
  },
  {
   "cell_type": "markdown",
   "id": "73079248",
   "metadata": {},
   "source": [
    "In each plot, the numeric estimate is shown in blue and the analytic solution is shown in red.\n",
    "\n",
    "Both the explicit and implicit Euler solutions have the same level of accuracy over a single step. However, in this example the errors in the explicit solution are amplified, whilst in the implicit solution they are damped. The implicit method is more stable for this example.\n",
    "\n",
    "**<u>Analysis for this problem</u>**\n",
    "\n",
    "This example can be fully analysed by hand. Since it is linear, a root finding method is not needed to implement the backward formula. We can simply rearrange to obtain an explicit solution for $y_k$. In both cases, the resulting expression for $y_{k+1}$ can be applied recursively to obtain a closed form discrete solution in terms of the step size $h$ and the initial condition $y_0$. The details for each method are shown below.\n",
    "\n",
    "The **explicit formula** gives\n",
    "\n",
    "$$\\displaystyle y_{k+1}= (1-5h)y_k \\quad \\Rightarrow \\quad y_{k+1}=(1-5h)^{k+1}y_0, \\qquad x=kh$$\n",
    "\n",
    "The **implicit formula** gives\n",
    "\n",
    "$$\\displaystyle y_{k+1}=\\frac{y_k}{1+5h} \\quad \\Rightarrow \\quad y_{k+1}=\\frac{y_0}{(1+5h)^{k+1}}, \\qquad x=kh$$\n",
    "\n",
    "Since $\\displaystyle \\lim_{h\\rightarrow 0}(1\\pm 5 h)^{x/h} = e^{\\pm 5x}$, both of these results converge to the analytic solution $y=2e^{-5x}$ in the limit of small step sizes.\n",
    "\n",
    "However, for $|1-5h|>1$, the explicit Euler method displays oscillating growth (i.e. for $h>2/5$).\n",
    "\n",
    "In general, for (dynamically) stable ODEs with a fast decaying or highly oscillatory mode, the explicit Euler method demands small step sizes. These types of ODE are called \"stiff\". The implicit Euler method is also more stable than the trapezoidal method.\n",
    "\n",
    "**How is stability assessed in practical problems?**\n",
    "\n",
    "Comparison of the local and global errors can give us an indication of the stability properties of the algorithm. The local errors generally ought to remain proportional to the size of the neglected terms in the truncated expansion. If these errors are growing then the algorithm is not stable.\n",
    "\n",
    "The size of the error at each step depends on the method used and also the problem being solved. In particular, it depends on how large the gradient is. To account for this, and to produce a reliable result within specified error tolerances, many algorithms use adaptive step size methods, in which the error is estimated at each step by comparing the results from algorithms with different numbers of stages. The step size can then be decreased in regions where the tolerance would be exceeded. Python scipy package offers a built-in algorithm that does exactly this, called integrate.solve_ivp\n",
    "\n",
    "## <span style=\"color: red;\">Coding challenge</span>\n",
    "As an alternative to using Newton-Raphson algorithm to find the root of an algebraic relationship, we can use a fixed-point iteration technique, designed for problems of the form \\begin{equation}x=F(x).\\end{equation}\n",
    "\n",
    "The approach proceeds by taking an initial guess $x=x_{guess}$ and substituting it into the right hand side of the equation.\n",
    "\n",
    "If $|x_{guess}-F(x_{guess})|$ is less than some specified tolerance then we conclude that our guess is a good approximation to the root.\n",
    "\n",
    "If the tolerance goal is not met, we use the result $F(x_{guess})$ as a new guess, and repeat the process.\n",
    "\n",
    "Write your own code to find a root of $x=\\cos(x)$, with an initial guess of $x=0.2$, with a tolerance of $10^{-7}$.\n",
    "\n",
    "Can you produce a plot showing the errors in each iteration?\n",
    "\n",
    "```{note}\n",
    "Fixed point techniques are an important numerical analysis tool, and we will use them more when we study applications to partial differential equations.\n",
    "```\n",
    "\n",
    "---\n",
    "\n",
    "## Explicit vs implicit methods\n",
    "\n",
    "```{admonition} Big idea : Stiffness and stability\n",
    ":class: tip\n",
    "Explicit algorithms tend to be easier to implement than implicit algorithms, and are less computationally demanding for a given step size.\n",
    "\n",
    "Implicit algorithms tend to exhibit better stability properties, which is particularly important for problems which are numerically \"stiff\".\n",
    "```"
   ]
  }
 ],
 "metadata": {
  "jupytext": {
   "formats": "md:myst",
   "text_representation": {
    "extension": ".md",
    "format_name": "myst",
    "format_version": 0.13,
    "jupytext_version": "1.10.3"
   }
  },
  "kernelspec": {
   "display_name": "Python 3",
   "language": "python",
   "name": "python3"
  },
  "language_info": {
   "codemirror_mode": {
    "name": "ipython",
    "version": 3
   },
   "file_extension": ".py",
   "mimetype": "text/x-python",
   "name": "python",
   "nbconvert_exporter": "python",
   "pygments_lexer": "ipython3",
   "version": "3.7.10"
  },
  "source_map": [
   13,
   66,
   101,
   144,
   155,
   161,
   173,
   185,
   200,
   221,
   250
  ]
 },
 "nbformat": 4,
 "nbformat_minor": 5
}