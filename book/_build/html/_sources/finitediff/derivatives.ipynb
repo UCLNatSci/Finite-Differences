{
 "cells": [
  {
   "cell_type": "markdown",
   "id": "75e60b91",
   "metadata": {},
   "source": [
    "# Derivative calculations\n",
    "\n",
    "```{admonition} Big idea : Discretisation\n",
    ":class: tip\n",
    "We can use the finite difference formulae to estimate the derivative of a function described by a discrete set of points $(x_k,y_k)$.\n",
    "\n",
    "Obtaining the derivative at the end-points may require us to know the function value at phantom grid-points outside the grid domain.\n",
    "```\n",
    "\n",
    "## Using forward differences\n",
    "Suppose that instead of being given an analytic function $y(x)$, we have a set of (e.g. experimental) points\n",
    "\n",
    "\\begin{equation}(x_1,y_1),(x_2,y_2),\\dots,(x_n,y_n).\\end{equation}\n",
    "\n",
    "We can approximate the derivative of the hypothetical function described by these points, using the forward difference estimate\n",
    "\n",
    "\\begin{equation}y_k^{\\prime}\\simeq\\frac{y_{k+1}-y_k}{x_{k+1}-x_k}.\\end{equation}\n",
    "\n",
    "For simplicity we will assume that the grid spacing $h_k=(x_{k+1}-x_k)$ is the same value $h$ for all neighbours (though this isn't necessary), which gives:\n",
    "\n",
    "$$\\begin{align}y^{\\prime}&=\\biggr[\\frac{y(x_2)-y(x_1)}{h},\\frac{y(x_3)-y(x_2)}{h},\\dots,\\frac{y(x_n)-y(x_{n-1})}{h}\\biggr]\\\\&=\\frac{[y_2,y_3,\\dots,y_n]-[y_1,y_2,\\dots,y_{n-1}]}{h}\\end{align}$$\n",
    "\n",
    "The idea, which is not very sophisticated, is illustrated in the schematic diagram below. Essentially, we are joining up the points with straight lines and using the slope of those line segments to estimate the gradient at the left-hand point of each interval.\n",
    "\n",
    "Notice that with $n$ experimental points we can only find the derivative at the first $(n-1)$ points, because the forward projection of the function at the final point is not known. If we wish to obtain the derivative at $x_n$, we require the phantom exterior value $(x_{n+1},y_{n+1})$.\n",
    "\n",
    "```{image} images/griddly3.png\n",
    ":alt: computing the derivative from secant lines\n",
    ":height: 300px\n",
    ":align: center\n",
    "```\n",
    "\n",
    "The code below provides an implementation of the formula for a given set of points $(x,y)$."
   ]
  },
  {
   "cell_type": "code",
   "execution_count": 1,
   "id": "a39edf08",
   "metadata": {},
   "outputs": [],
   "source": [
    "def forward_diff(x,y):\n",
    "\n",
    "    # Assuming equal grid spacing h\n",
    "    h = x[1]-x[0]\n",
    "    fd = (y[1:]-y[0:-1])/h\n",
    "\n",
    "    # OR\n",
    "    # No assumption of equal grid spacing\n",
    "    fd = (y[1:]-y[0:-1])/(x[1:]-x[0:-1])\n",
    "\n",
    "    return fd"
   ]
  },
  {
   "cell_type": "markdown",
   "id": "a1b87cd4",
   "metadata": {},
   "source": [
    "**Example**:\n",
    "\n",
    "We will demonstrate for the function\n",
    "\n",
    "\\begin{equation}y=\\sin(x)+x, \\quad y(-\\pi)=-\\pi\\end{equation}\n",
    "\n",
    "To obtain a result for the derivative at a set of points including the endpoint, we will extend the grid by adding a phantom exterior point at the right hand side."
   ]
  },
  {
   "cell_type": "code",
   "execution_count": 2,
   "id": "c5bcc396",
   "metadata": {
    "render": {
     "image": {
      "align": "center"
     }
    },
    "tags": [
     "hide-input"
    ]
   },
   "outputs": [
    {
     "data": {
      "image/png": "[encoded data removed]",
      "text/plain": [
       "<Figure size 432x288 with 1 Axes>"
      ]
     },
     "metadata": {
      "filenames": {
       "image/png": "C:\\Users\\Ella Metcalfe\\OneDrive - University College London\\Finite-Differences\\book\\_build\\jupyter_execute\\finitediff\\derivatives_3_0.png"
      },
      "needs_background": "light"
     },
     "output_type": "display_data"
    }
   ],
   "source": [
    "import numpy as np\n",
    "from math import pi, sin\n",
    "import matplotlib.pyplot as plt\n",
    "\n",
    "x = np.linspace(-pi,pi,100)\n",
    "h = x[1]-x[0]\n",
    "xx = np.insert(x,len(x), pi+h)\n",
    "yy = list(map(lambda a: sin(a), xx)) + xx\n",
    "\n",
    "fd = (yy[1:]-yy[:-1])/h\n",
    "\n",
    "plt.plot(x, fd)\n",
    "plt.xlabel('x')\n",
    "plt.title('Estimated derivative of sin(x)+x')\n",
    "plt.ylim(0,2)\n",
    "plt.show()"
   ]
  },
  {
   "cell_type": "markdown",
   "id": "2c82f129",
   "metadata": {},
   "source": [
    "```{note}\n",
    "The relevant packages were imported here (numpy, math, matplotlib), therefore no longer need importing in the next sections. But make sure you do import them if you are running some of the sections independently.\n",
    "```\n",
    "```{admonition} Discretisation tip\n",
    ":class: tip\n",
    "In the above example we allowed python to compute the grid points, by using linspace to ensure that the right-hand end point was included. However, for some applications it may not be convenient to use linspace.\n",
    "\n",
    "If you want to compute the step size $h$ that will discretise a domain with the right-hand end point included, it is useful to recognise that the $x$ values in the grid are in arithmetic progression. If the first term is $a$, then the last term is $a+(n-1)h$, where $n$ is the number of points. This gives the following result for an interval $[a,b]$\n",
    "\n",
    "\\begin{equation}a+(n-1)h=b \\quad \\Rightarrow\\quad h=\\frac{b-a}{n-1}\\end{equation}\n",
    "```"
   ]
  }
 ],
 "metadata": {
  "jupytext": {
   "formats": "md:myst",
   "text_representation": {
    "extension": ".md",
    "format_name": "myst",
    "format_version": 0.13,
    "jupytext_version": "1.10.3"
   }
  },
  "kernelspec": {
   "display_name": "Python 3",
   "language": "python",
   "name": "python3"
  },
  "language_info": {
   "codemirror_mode": {
    "name": "ipython",
    "version": 3
   },
   "file_extension": ".py",
   "mimetype": "text/x-python",
   "name": "python",
   "nbconvert_exporter": "python",
   "pygments_lexer": "ipython3",
   "version": "3.7.10"
  },
  "source_map": [
   13,
   49,
   61,
   71,
   95
  ]
 },
 "nbformat": 4,
 "nbformat_minor": 5
}